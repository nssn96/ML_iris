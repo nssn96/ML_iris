{
  "nbformat": 4,
  "nbformat_minor": 0,
  "metadata": {
    "colab": {
      "name": "ML_iris_classification.ipynb",
      "provenance": [],
      "authorship_tag": "ABX9TyNJeI4UUsl0AtWiG20MwCQA",
      "include_colab_link": true
    },
    "kernelspec": {
      "name": "python3",
      "display_name": "Python 3"
    },
    "language_info": {
      "name": "python"
    }
  },
  "cells": [
    {
      "cell_type": "markdown",
      "metadata": {
        "id": "view-in-github",
        "colab_type": "text"
      },
      "source": [
        "<a href=\"https://colab.research.google.com/github/nssn96/ML_iris/blob/main/ML_iris_classification.ipynb\" target=\"_parent\"><img src=\"https://colab.research.google.com/assets/colab-badge.svg\" alt=\"Open In Colab\"/></a>"
      ]
    },
    {
      "cell_type": "markdown",
      "source": [
        "# ML Assignmet 1 - Iris dataset\n",
        "\n",
        "\n",
        "*   Name : Surya Narayanan Nadhamuni Suresh\n",
        "*   UTA ID : 1001877873\n"
      ],
      "metadata": {
        "id": "--qDsGN4-Rjc"
      }
    },
    {
      "cell_type": "code",
      "execution_count": 322,
      "metadata": {
        "id": "qrsi17qvvkCK"
      },
      "outputs": [],
      "source": [
        "#import statements\n",
        "from sklearn.datasets import load_iris\n",
        "import numpy as np\n",
        "import pandas as pd\n",
        "import matplotlib.pyplot as plt\n",
        "import itertools\n",
        "\n",
        "from sklearn.model_selection import train_test_split\n",
        "from sklearn.linear_model import LinearRegression\n",
        "from sklearn.metrics import mean_squared_error\n",
        "from sklearn.metrics import accuracy_score\n",
        "%matplotlib inline"
      ]
    },
    {
      "cell_type": "code",
      "source": [
        "#loading the iris dataset\n",
        "iris_dataset=load_iris()\n",
        "print(type(iris_dataset))"
      ],
      "metadata": {
        "colab": {
          "base_uri": "https://localhost:8080/"
        },
        "id": "4Ws0GmPYvu18",
        "outputId": "fc2479fe-88a6-4e8a-ea79-9a5cdb8b5f68"
      },
      "execution_count": 323,
      "outputs": [
        {
          "output_type": "stream",
          "name": "stdout",
          "text": [
            "<class 'sklearn.utils.Bunch'>\n"
          ]
        }
      ]
    },
    {
      "cell_type": "code",
      "source": [
        "#storing features and target of iris dataset separately\n",
        "x = pd.DataFrame(iris_dataset.data)  # x is in matrix format\n",
        "y=pd.DataFrame(iris_dataset.target)   # y is in a vector format\n",
        "x.columns=['sepal_length','sepal_width','petal_length','petal_width']\n",
        "y.columns=['target']\n",
        "x"
      ],
      "metadata": {
        "colab": {
          "base_uri": "https://localhost:8080/",
          "height": 423
        },
        "id": "_rx7YxMGvyPa",
        "outputId": "982b5ddf-842c-4e73-97cc-593ce05a4f11"
      },
      "execution_count": 324,
      "outputs": [
        {
          "output_type": "execute_result",
          "data": {
            "text/plain": [
              "     sepal_length  sepal_width  petal_length  petal_width\n",
              "0             5.1          3.5           1.4          0.2\n",
              "1             4.9          3.0           1.4          0.2\n",
              "2             4.7          3.2           1.3          0.2\n",
              "3             4.6          3.1           1.5          0.2\n",
              "4             5.0          3.6           1.4          0.2\n",
              "..            ...          ...           ...          ...\n",
              "145           6.7          3.0           5.2          2.3\n",
              "146           6.3          2.5           5.0          1.9\n",
              "147           6.5          3.0           5.2          2.0\n",
              "148           6.2          3.4           5.4          2.3\n",
              "149           5.9          3.0           5.1          1.8\n",
              "\n",
              "[150 rows x 4 columns]"
            ],
            "text/html": [
              "\n",
              "  <div id=\"df-11e5c1c6-939d-4bd5-9e21-540d6535de7a\">\n",
              "    <div class=\"colab-df-container\">\n",
              "      <div>\n",
              "<style scoped>\n",
              "    .dataframe tbody tr th:only-of-type {\n",
              "        vertical-align: middle;\n",
              "    }\n",
              "\n",
              "    .dataframe tbody tr th {\n",
              "        vertical-align: top;\n",
              "    }\n",
              "\n",
              "    .dataframe thead th {\n",
              "        text-align: right;\n",
              "    }\n",
              "</style>\n",
              "<table border=\"1\" class=\"dataframe\">\n",
              "  <thead>\n",
              "    <tr style=\"text-align: right;\">\n",
              "      <th></th>\n",
              "      <th>sepal_length</th>\n",
              "      <th>sepal_width</th>\n",
              "      <th>petal_length</th>\n",
              "      <th>petal_width</th>\n",
              "    </tr>\n",
              "  </thead>\n",
              "  <tbody>\n",
              "    <tr>\n",
              "      <th>0</th>\n",
              "      <td>5.1</td>\n",
              "      <td>3.5</td>\n",
              "      <td>1.4</td>\n",
              "      <td>0.2</td>\n",
              "    </tr>\n",
              "    <tr>\n",
              "      <th>1</th>\n",
              "      <td>4.9</td>\n",
              "      <td>3.0</td>\n",
              "      <td>1.4</td>\n",
              "      <td>0.2</td>\n",
              "    </tr>\n",
              "    <tr>\n",
              "      <th>2</th>\n",
              "      <td>4.7</td>\n",
              "      <td>3.2</td>\n",
              "      <td>1.3</td>\n",
              "      <td>0.2</td>\n",
              "    </tr>\n",
              "    <tr>\n",
              "      <th>3</th>\n",
              "      <td>4.6</td>\n",
              "      <td>3.1</td>\n",
              "      <td>1.5</td>\n",
              "      <td>0.2</td>\n",
              "    </tr>\n",
              "    <tr>\n",
              "      <th>4</th>\n",
              "      <td>5.0</td>\n",
              "      <td>3.6</td>\n",
              "      <td>1.4</td>\n",
              "      <td>0.2</td>\n",
              "    </tr>\n",
              "    <tr>\n",
              "      <th>...</th>\n",
              "      <td>...</td>\n",
              "      <td>...</td>\n",
              "      <td>...</td>\n",
              "      <td>...</td>\n",
              "    </tr>\n",
              "    <tr>\n",
              "      <th>145</th>\n",
              "      <td>6.7</td>\n",
              "      <td>3.0</td>\n",
              "      <td>5.2</td>\n",
              "      <td>2.3</td>\n",
              "    </tr>\n",
              "    <tr>\n",
              "      <th>146</th>\n",
              "      <td>6.3</td>\n",
              "      <td>2.5</td>\n",
              "      <td>5.0</td>\n",
              "      <td>1.9</td>\n",
              "    </tr>\n",
              "    <tr>\n",
              "      <th>147</th>\n",
              "      <td>6.5</td>\n",
              "      <td>3.0</td>\n",
              "      <td>5.2</td>\n",
              "      <td>2.0</td>\n",
              "    </tr>\n",
              "    <tr>\n",
              "      <th>148</th>\n",
              "      <td>6.2</td>\n",
              "      <td>3.4</td>\n",
              "      <td>5.4</td>\n",
              "      <td>2.3</td>\n",
              "    </tr>\n",
              "    <tr>\n",
              "      <th>149</th>\n",
              "      <td>5.9</td>\n",
              "      <td>3.0</td>\n",
              "      <td>5.1</td>\n",
              "      <td>1.8</td>\n",
              "    </tr>\n",
              "  </tbody>\n",
              "</table>\n",
              "<p>150 rows × 4 columns</p>\n",
              "</div>\n",
              "      <button class=\"colab-df-convert\" onclick=\"convertToInteractive('df-11e5c1c6-939d-4bd5-9e21-540d6535de7a')\"\n",
              "              title=\"Convert this dataframe to an interactive table.\"\n",
              "              style=\"display:none;\">\n",
              "        \n",
              "  <svg xmlns=\"http://www.w3.org/2000/svg\" height=\"24px\"viewBox=\"0 0 24 24\"\n",
              "       width=\"24px\">\n",
              "    <path d=\"M0 0h24v24H0V0z\" fill=\"none\"/>\n",
              "    <path d=\"M18.56 5.44l.94 2.06.94-2.06 2.06-.94-2.06-.94-.94-2.06-.94 2.06-2.06.94zm-11 1L8.5 8.5l.94-2.06 2.06-.94-2.06-.94L8.5 2.5l-.94 2.06-2.06.94zm10 10l.94 2.06.94-2.06 2.06-.94-2.06-.94-.94-2.06-.94 2.06-2.06.94z\"/><path d=\"M17.41 7.96l-1.37-1.37c-.4-.4-.92-.59-1.43-.59-.52 0-1.04.2-1.43.59L10.3 9.45l-7.72 7.72c-.78.78-.78 2.05 0 2.83L4 21.41c.39.39.9.59 1.41.59.51 0 1.02-.2 1.41-.59l7.78-7.78 2.81-2.81c.8-.78.8-2.07 0-2.86zM5.41 20L4 18.59l7.72-7.72 1.47 1.35L5.41 20z\"/>\n",
              "  </svg>\n",
              "      </button>\n",
              "      \n",
              "  <style>\n",
              "    .colab-df-container {\n",
              "      display:flex;\n",
              "      flex-wrap:wrap;\n",
              "      gap: 12px;\n",
              "    }\n",
              "\n",
              "    .colab-df-convert {\n",
              "      background-color: #E8F0FE;\n",
              "      border: none;\n",
              "      border-radius: 50%;\n",
              "      cursor: pointer;\n",
              "      display: none;\n",
              "      fill: #1967D2;\n",
              "      height: 32px;\n",
              "      padding: 0 0 0 0;\n",
              "      width: 32px;\n",
              "    }\n",
              "\n",
              "    .colab-df-convert:hover {\n",
              "      background-color: #E2EBFA;\n",
              "      box-shadow: 0px 1px 2px rgba(60, 64, 67, 0.3), 0px 1px 3px 1px rgba(60, 64, 67, 0.15);\n",
              "      fill: #174EA6;\n",
              "    }\n",
              "\n",
              "    [theme=dark] .colab-df-convert {\n",
              "      background-color: #3B4455;\n",
              "      fill: #D2E3FC;\n",
              "    }\n",
              "\n",
              "    [theme=dark] .colab-df-convert:hover {\n",
              "      background-color: #434B5C;\n",
              "      box-shadow: 0px 1px 3px 1px rgba(0, 0, 0, 0.15);\n",
              "      filter: drop-shadow(0px 1px 2px rgba(0, 0, 0, 0.3));\n",
              "      fill: #FFFFFF;\n",
              "    }\n",
              "  </style>\n",
              "\n",
              "      <script>\n",
              "        const buttonEl =\n",
              "          document.querySelector('#df-11e5c1c6-939d-4bd5-9e21-540d6535de7a button.colab-df-convert');\n",
              "        buttonEl.style.display =\n",
              "          google.colab.kernel.accessAllowed ? 'block' : 'none';\n",
              "\n",
              "        async function convertToInteractive(key) {\n",
              "          const element = document.querySelector('#df-11e5c1c6-939d-4bd5-9e21-540d6535de7a');\n",
              "          const dataTable =\n",
              "            await google.colab.kernel.invokeFunction('convertToInteractive',\n",
              "                                                     [key], {});\n",
              "          if (!dataTable) return;\n",
              "\n",
              "          const docLinkHtml = 'Like what you see? Visit the ' +\n",
              "            '<a target=\"_blank\" href=https://colab.research.google.com/notebooks/data_table.ipynb>data table notebook</a>'\n",
              "            + ' to learn more about interactive tables.';\n",
              "          element.innerHTML = '';\n",
              "          dataTable['output_type'] = 'display_data';\n",
              "          await google.colab.output.renderOutput(dataTable, element);\n",
              "          const docLink = document.createElement('div');\n",
              "          docLink.innerHTML = docLinkHtml;\n",
              "          element.appendChild(docLink);\n",
              "        }\n",
              "      </script>\n",
              "    </div>\n",
              "  </div>\n",
              "  "
            ]
          },
          "metadata": {},
          "execution_count": 324
        }
      ]
    },
    {
      "cell_type": "code",
      "source": [
        "#converting to dataframe\n",
        "# data = pd.DataFrame(data= np.c_[iris_dataset['data'], iris_dataset['target']],columns= iris_dataset['feature_names'] + ['target'])\n",
        "# #data['species'] = pd.Categorical.from_codes(iris_dataset.target,iris_dataset.target_names)\n",
        "# data.columns=['sepal_length','sepal_width','petal_length','petal_width','target']\n",
        "# data"
      ],
      "metadata": {
        "id": "omu6hiOfwA4B"
      },
      "execution_count": 325,
      "outputs": []
    },
    {
      "cell_type": "code",
      "source": [
        "#splitting the data into train and test set\n",
        "data, target = iris_dataset.data, iris_dataset.target\n",
        "x_train,x_test,y_train,y_test = train_test_split(data,target,test_size=0.1, random_state=1,stratify = y)"
      ],
      "metadata": {
        "id": "AeYOS0IjwHl6"
      },
      "execution_count": 326,
      "outputs": []
    },
    {
      "cell_type": "markdown",
      "source": [
        "# Training"
      ],
      "metadata": {
        "id": "YZ0SvATBwLSh"
      }
    },
    {
      "cell_type": "markdown",
      "source": [
        "Linear Discriminant Analysis(LDA) - supervised ML algorithm used commonly for dimensionality reduction"
      ],
      "metadata": {
        "id": "UEtIoYbDkkyJ"
      }
    },
    {
      "cell_type": "code",
      "source": [
        "#class definition for Linear regression\n",
        "class LDA:\n",
        "\n",
        "  def fit(self,data,target,n_comp=2):\n",
        "    self.n_comp=n_comp\n",
        "    self.discriminants = None\n",
        "\n",
        "    n = data.shape[1]\n",
        "    labels = np.unique(target)\n",
        "    #print(labels)\n",
        "    #print('check 0')\n",
        "    mean_all = np.mean(data,axis=0)\n",
        "    #print(mean_all)\n",
        "\n",
        "    #scatter_intra--> the scatter matrices for between class\n",
        "    #scatter_inter--> the scatter matrices for in-class\n",
        "    scatter_intra = np.zeros((n,n))\n",
        "    scatter_inter = np.zeros((n,n))\n",
        "    #print('check1')\n",
        "\n",
        "    for i in labels:\n",
        "      xi = data[target == i]\n",
        "      #print('check2')\n",
        "      #xi.drop(\"target\", axis=1, inplace=True)\n",
        "      \n",
        "      #xi = np.flatnonzero(target == labels[i])\n",
        "      #print(xi)\n",
        "      #print('check3')\n",
        "      mean_each = np.mean(xi,axis=0)\n",
        "      #print(type(mean_each))\n",
        "      #print('check4')\n",
        "      #scatter_inter = np.sum( ((xi-mean_each).T) @ (xi-mean_each) )\n",
        "      scatter_inter += ((xi-mean_each).T).dot(xi-mean_each) \n",
        "      #scatter_inter += (xi-mean_each).dot((xi-mean_each).T)\n",
        "      #print('check5')\n",
        "      #print(scatter_inter)\n",
        "      \n",
        "      m = xi.shape[0]\n",
        "     \n",
        "      mean_diff = (mean_each - mean_all).reshape(n,1)\n",
        "      \n",
        "      #scatter_intra = np.sum( m * (mean_diff @ (mean_diff.T))  )\n",
        "      scatter_intra +=  m * (mean_diff.dot(mean_diff.T))  \n",
        "      #print('check6')\n",
        "    \n",
        "    \n",
        "    #determin scatter_inter^-1 * scatter_intra\n",
        "    #print(scatter_inter)\n",
        "    Z = np.linalg.inv(scatter_inter).dot(scatter_intra)\n",
        "    print(Z)\n",
        "    \n",
        "    #getting eigenvalues and vectors\n",
        "    e_values,e_vectors = np.linalg.eig(Z)\n",
        "    \n",
        "    #transposing for easy calculation and arranging in descending order\n",
        "    e_vectors = e_vectors.T\n",
        "    index = np.argsort(abs(e_values))[::-1]\n",
        "    e_values = e_values[index]\n",
        "    e_vectors = e_vectors[index]\n",
        "    \n",
        "    #we only want eigenvectors of first n-components\n",
        "    self.discriminants = e_vectors[:n_comp]\n",
        "\n",
        "  def predict(self,data):\n",
        "    pass\n",
        "\n",
        "  def transform(self,data):\n",
        "    return np.dot(data,self.discriminants.T)\n"
      ],
      "metadata": {
        "id": "3DJK30DhJYs8"
      },
      "execution_count": 327,
      "outputs": []
    },
    {
      "cell_type": "code",
      "source": [
        "#Testing for LDA\n",
        "model = LDA()\n",
        "#print(x_train)\n",
        "model.fit(x_train,y_train)\n",
        "data_projected = model.transform(x_train)\n",
        "\n",
        "print(\"Original size of the data : \",x_train.shape)\n",
        "print(\"size of the transformed data after dimensionality reduction : \",data_projected.shape)\n",
        "\n",
        "d1,d2 = data_projected[:,0] , data_projected[:,1]\n",
        "\n",
        "plt.scatter(d1,d2,c=y_train , edgecolor='red', alpha=0.7 ,cmap=plt.cm.get_cmap(\"viridis\", 3))\n",
        "plt.xlabel('Discrminant 1')\n",
        "plt.ylabel('Discriminant 2')\n",
        "plt.colorbar() ;plt.show()"
      ],
      "metadata": {
        "colab": {
          "base_uri": "https://localhost:8080/",
          "height": 394
        },
        "id": "omc9-NGJpzIS",
        "outputId": "4acbb034-4669-4bd5-da73-fb0a35b647ea"
      },
      "execution_count": 328,
      "outputs": [
        {
          "output_type": "stream",
          "name": "stdout",
          "text": [
            "[[ -2.7374397    0.98920626  -7.16621712  -3.00526707]\n",
            " [ -5.55670076   2.15290089 -14.71099928  -6.12038602]\n",
            " [  8.50517537  -3.08288298  22.27600981   9.33861416]\n",
            " [ 10.32831437  -3.31349339  26.56305709  11.28095755]]\n",
            "Original size of the data :  (135, 4)\n",
            "size of the transformed data after dimensionality reduction :  (135, 2)\n"
          ]
        },
        {
          "output_type": "display_data",
          "data": {
            "text/plain": [
              "<Figure size 432x288 with 2 Axes>"
            ],
            "image/png": "[encoded data removed]"
          },
          "metadata": {
            "needs_background": "light"
          }
        }
      ]
    },
    {
      "cell_type": "markdown",
      "source": [
        "# Logistic Regression"
      ],
      "metadata": {
        "id": "tYmgu-whGnwU"
      }
    },
    {
      "cell_type": "code",
      "source": [
        "##class definition for Logistic regression\n",
        "class LogisticRegression:\n",
        "\n",
        "  def fit(self,data,target,steps=100):\n",
        "    self.alpha=0.001 #learning rate\n",
        "    n = data.shape[0]  # number of training examples\n",
        "    m = data.shape[1]\n",
        "    self.w = np.zeros(m)\n",
        "    self.b = 0\n",
        "\n",
        "    for i in range(steps):\n",
        "      #applying the sigmoid function (prediction)\n",
        "      temp = np.dot(data,self.w)+self.b\n",
        "      #print('check1')\n",
        "      target_pred = self.sigmoid(temp)\n",
        "      #print('check2')\n",
        "\n",
        "      #getting the gradients wrt to loss\n",
        "\n",
        "      dw = (1/n) * np.dot(data.T, (target_pred-target))\n",
        "      #print('check3')\n",
        "      db = (1/n) * np.sum(target_pred - target)\n",
        "\n",
        "      #Updating the parameters of w and b\n",
        "      self.w = self.w - self.alpha * dw\n",
        "      #print('check4')\n",
        "      self.b = self.b - self.alpha * db\n",
        "   \n",
        "\n",
        "  def predict(self,data):\n",
        "    target_pred = self.sigmoid(np.dot(data,self.w)+self.b)\n",
        "    #print('check5')\n",
        "    target_pred_new = [1 if i > 0.5 else 0 for i in target_pred]\n",
        "    return np.array(target_pred_new)\n",
        "\n",
        "  \n",
        "\n",
        "  def sigmoid(self,z):\n",
        "    return 1.0/(1+np.exp(-z))\n",
        "  \n",
        "  def loss(y,yp):\n",
        "    l = -np.mean(y*(np.log(yp)) - (1-y) * np.log(1-yp))\n",
        "    return l\n",
        "\n"
      ],
      "metadata": {
        "id": "1GkHjdHPGsvT"
      },
      "execution_count": 329,
      "outputs": []
    },
    {
      "cell_type": "code",
      "source": [
        "#splitting the data into train and test set\n",
        "data, target = iris_dataset.data, iris_dataset.target\n",
        "x_train,x_test,y_train,y_test = train_test_split(data,target,test_size=0.1, random_state=123,stratify = y)\n",
        "\n",
        "#Testing for Logistic regression\n",
        "from sklearn.metrics import accuracy_score\n",
        "model_log = LogisticRegression()\n",
        "model_log.fit(x_train,y_train)\n",
        "\n",
        "pred = model_log.predict(x_test)\n",
        "#print(pred)\n",
        "#print(y_test)\n",
        "accuracy = np.sum(y_test == pred) / len(y_test)\n",
        "#score = accuracy_score(y_test, pred, normalize=False)\n",
        "\n",
        "print('The accuracy of the Logistic model is ',accuracy*100)\n"
      ],
      "metadata": {
        "colab": {
          "base_uri": "https://localhost:8080/"
        },
        "id": "UfqNtTAyPgpa",
        "outputId": "d7875dc8-f222-4687-877e-fc1d34d16424"
      },
      "execution_count": 330,
      "outputs": [
        {
          "output_type": "stream",
          "name": "stdout",
          "text": [
            "The accuracy of the Logistic model is  33.33333333333333\n"
          ]
        }
      ]
    },
    {
      "cell_type": "markdown",
      "source": [
        "# Naive Bayes"
      ],
      "metadata": {
        "id": "uXW3jH8ocjIf"
      }
    },
    {
      "cell_type": "code",
      "source": [
        "# class definition for Naive Bayes\n",
        "#refrences Used\n",
        "#https://towardsdatascience.com/implementing-naive-bayes-from-scratch-df5572e042ac\n",
        "class NaiveB:\n",
        "\n",
        "  def fit(self,data,target):\n",
        "    n,m = data.shape\n",
        "    self.labels = np.unique(target)\n",
        "    self.len_labels = len(self.labels)\n",
        "    #print('check1')\n",
        "\n",
        "    #calculate mean , variance and prior for each classes\n",
        "    self.mean = np.zeros((self.len_labels,m))\n",
        "    self.variance =  np.zeros((self.len_labels,m))\n",
        "    self.prior = np.zeros(self.len_labels)\n",
        "    #print('check2')\n",
        "\n",
        "    for i in range(self.len_labels):\n",
        "      #creating a subset of data specific to one class\n",
        "      xi = data[target == i]\n",
        "      #print(xi)\n",
        "      #print('check3')\n",
        "      #calculating the required statistics\n",
        "      self.mean[i, :] = np.mean(xi, axis=0)\n",
        "      self.prior[i] =  xi.shape[0] / n\n",
        "      self.variance[i,:] = np.var(xi, axis=0)\n",
        "    \n",
        "  \n",
        "  def predict(self,data):\n",
        "    y_pred = [self.get_prob(x) for x in data]\n",
        "    return np.array(y_pred)\n",
        "  \n",
        "  def get_prob(self,data):\n",
        "    posteri = list()\n",
        "\n",
        "    for i in range(self.len_labels):\n",
        "      mean = self.mean[i]\n",
        "      prob_prior = np.log(self.prior[i])\n",
        "      variance = self.variance[i]\n",
        "      #print('check4')\n",
        "\n",
        "      prob_posterior = np.sum(np.log(self.density(data, mean, variance)))\n",
        "      #print('check5')\n",
        "      prob_posterior = prob_prior + prob_posterior\n",
        "      posteri.append(prob_posterior)\n",
        "\n",
        "    # we should return the index with highest class probability\n",
        "    return np.argmax(posteri)\n",
        "\n",
        "  #this function is used for calculating the gaussian density\n",
        "  def density(self,data, mean,var):\n",
        "    #gaussian density function\n",
        "    constant = 1/ np.sqrt(var*2*np.pi)\n",
        "    #print('check6')\n",
        "    p = np.exp(-0.5 * ((data - mean) ** 2 / var))\n",
        "    return constant * p\n",
        "\n",
        "\n",
        "\n",
        "\n",
        "\n",
        "\n"
      ],
      "metadata": {
        "id": "-_ZQxCxHcikW"
      },
      "execution_count": 331,
      "outputs": []
    },
    {
      "cell_type": "code",
      "source": [
        "# #splitting the data into train and test set\n",
        "# data, target = iris_dataset.data, iris_dataset.target\n",
        "# #x_train,x_test,y_train,y_test = train_test_split(data,target,test_size=0.2, random_state=1,stratify = y)\n",
        "# X_train, X_test, y_train, y_test = train_test_split(\n",
        "#         data, target, test_size=0.2, random_state=123\n",
        "#     )\n",
        "\n",
        "# # Testing for Naive bayes model\n",
        "# nb = NaiveB()\n",
        "# nb.fit(X_train,y_train)\n",
        "# pred = nb.predict(X_test)\n",
        "\n",
        "# accuracy = np.sum(y_test == pred) / len(y_test)\n",
        "\n",
        "# print(\"The accuracy of the Naive Bayes mode : \", accuracy*100)\n",
        "\n",
        "def get_accuracy(y, y_pred):\n",
        "  return np.sum(y==y_pred) / len(y)\n",
        "\n",
        " #splitting the data into train and test set\n",
        "data, target = iris_dataset.data, iris_dataset.target\n",
        "# x_train,x_test,y_train,y_test = train_test_split(data,target,test_size=0.1, random_state=1,stratify = y)\n",
        "x_train, x_test, y_train, y_test = train_test_split(data, target, test_size=0.2, random_state=123)\n",
        "nb = NaiveB()\n",
        "nb.fit(x_train, y_train)\n",
        "predictions = nb.predict(x_test)\n",
        "#print(pred)\n",
        "#print(y_test)\n",
        "accuracy = get_accuracy(y_test, predictions)\n",
        "#accuracy = accuracy_score(predictions,y_test)\n",
        "print(\"Naive Bayes classification model accuracy\", accuracy*100)\n"
      ],
      "metadata": {
        "id": "Q4jZSVvromxj",
        "colab": {
          "base_uri": "https://localhost:8080/"
        },
        "outputId": "752545b6-4202-4d0a-d50f-66c7a1f0f5c3"
      },
      "execution_count": 332,
      "outputs": [
        {
          "output_type": "stream",
          "name": "stdout",
          "text": [
            "Naive Bayes classification model accuracy 96.66666666666667\n"
          ]
        }
      ]
    },
    {
      "cell_type": "code",
      "source": [
        "# References Used\n",
        "\n",
        "# •\thttps://medium.com/analytics-vidhya/exploration-of-iris-dataset-using-scikit-learn-part-1-8ac5604937f8\n",
        "# •\thttps://www.statology.org/linear-discriminant-analysis-in-python/\n",
        "# •\thttps://www.geeksforgeeks.org/linear-regression-implementation-from-scratch-using-python/#:~:text=Linear%20Regression%20is%20a%20supervised,the%20given%20input%20value%20x\n",
        "# •\thttps://stackoverflow.com/questions/464864/how-to-get-all-possible-combinations-of-a-list-s-elements\n",
        "# •\thttps://www.geeksforgeeks.org/implementation-of-ridge-regression-from-scratch-using-python/?ref=lbp\n",
        "# •\thttps://www.geeksforgeeks.org/python-mean-squared-error/\n",
        "# •\thttps://towardsdatascience.com/classification-basics-walk-through-with-the-iris-data-set-d46b0331bf82\n",
        "# •\thttps://www.justintodata.com/linear-regression-machine-learning-python-tutorial/\n",
        "# •\thttps://www.geeksforgeeks.org/linear-regression-implementation-from-scratch-using-python/#:~:text=Linear%20Regression%20is%20a%20supervised,the%20given%20input%20value%20x\n",
        "# •\thttps://github.com/spympr/Linear_Regression/blob/main/AI(II)_Project1_A.ipynb\n",
        "# •\thttps://www.section.io/engineering-education/linear-discriminant-analysis/\n",
        "# •\thttps://github.com/python-engineer/MLfromscratch/blob/master/mlfromscratch/lda.py\n",
        "# •\thttps://isip.piconepress.com/publications/reports/1998/isip/lda/lda_theory.pdf\n",
        "# •\thttps://towardsdatascience.com/logistic-regression-from-scratch-in-python-ec66603592e2\n",
        "# •\thttps://github.com/python-engineer/MLfromscratch/blob/master/mlfromscratch/logistic_regression.py\n",
        "# •\thttps://github.com/python-engineer/MLfromscratch/blob/master/mlfromscratch/naivebayes.py\n",
        "# https://towardsdatascience.com/implementing-naive-bayes-from-scratch-df5572e042ac\n"
      ],
      "metadata": {
        "id": "75eCQJ1b8253"
      },
      "execution_count": 333,
      "outputs": []
    }
  ]
}