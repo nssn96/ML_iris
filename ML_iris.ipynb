{
  "nbformat": 4,
  "nbformat_minor": 0,
  "metadata": {
    "colab": {
      "name": "ML_iris.ipynb",
      "provenance": [],
      "collapsed_sections": [],
      "authorship_tag": "ABX9TyNdwyFxMrQ/GL9QDn4aJT7K",
      "include_colab_link": true
    },
    "kernelspec": {
      "name": "python3",
      "display_name": "Python 3"
    },
    "language_info": {
      "name": "python"
    }
  },
  "cells": [
    {
      "cell_type": "markdown",
      "metadata": {
        "id": "view-in-github",
        "colab_type": "text"
      },
      "source": [
        "<a href=\"https://colab.research.google.com/github/nssn96/ML_iris/blob/main/ML_iris.ipynb\" target=\"_parent\"><img src=\"https://colab.research.google.com/assets/colab-badge.svg\" alt=\"Open In Colab\"/></a>"
      ]
    },
    {
      "cell_type": "markdown",
      "source": [
        "# ML Assignmet 1 - Iris dataset"
      ],
      "metadata": {
        "id": "Mcgpr46pdcs0"
      }
    },
    {
      "cell_type": "code",
      "source": [
        "#import statements\n",
        "from sklearn.datasets import load_iris"
      ],
      "metadata": {
        "id": "xWpiGmA3ePEr"
      },
      "execution_count": null,
      "outputs": []
    },
    {
      "cell_type": "code",
      "source": [
        "#loading the iris dataset\n",
        "iris_dataset=load_iris()\n",
        "print(type(iris_dataset))"
      ],
      "metadata": {
        "id": "Ov6VyxCgdjHR",
        "outputId": "2b190556-9609-499e-867b-0897c91d7365",
        "colab": {
          "base_uri": "https://localhost:8080/"
        }
      },
      "execution_count": null,
      "outputs": [
        {
          "output_type": "stream",
          "name": "stdout",
          "text": [
            "<class 'sklearn.utils.Bunch'>\n"
          ]
        }
      ]
    },
    {
      "cell_type": "code",
      "source": [
        "#to explore the iris_dataset dictionary and understand the different available keys and thier values\n",
        "print(iris_dataset.keys())\n",
        "#print(iris_dataset.data)\n",
        "print(iris_dataset.target)\n",
        "print(iris_dataset.frame)\n",
        "print(iris_dataset.target_names)\n",
        "print(iris_dataset.feature_names)"
      ],
      "metadata": {
        "colab": {
          "base_uri": "https://localhost:8080/"
        },
        "id": "1usr410yxycz",
        "outputId": "251bb44b-7f75-4e7b-c421-67f4e9c7ce96"
      },
      "execution_count": null,
      "outputs": [
        {
          "output_type": "stream",
          "name": "stdout",
          "text": [
            "dict_keys(['data', 'target', 'frame', 'target_names', 'DESCR', 'feature_names', 'filename', 'data_module'])\n",
            "[0 0 0 0 0 0 0 0 0 0 0 0 0 0 0 0 0 0 0 0 0 0 0 0 0 0 0 0 0 0 0 0 0 0 0 0 0\n",
            " 0 0 0 0 0 0 0 0 0 0 0 0 0 1 1 1 1 1 1 1 1 1 1 1 1 1 1 1 1 1 1 1 1 1 1 1 1\n",
            " 1 1 1 1 1 1 1 1 1 1 1 1 1 1 1 1 1 1 1 1 1 1 1 1 1 1 2 2 2 2 2 2 2 2 2 2 2\n",
            " 2 2 2 2 2 2 2 2 2 2 2 2 2 2 2 2 2 2 2 2 2 2 2 2 2 2 2 2 2 2 2 2 2 2 2 2 2\n",
            " 2 2]\n",
            "None\n",
            "['setosa' 'versicolor' 'virginica']\n",
            "['sepal length (cm)', 'sepal width (cm)', 'petal length (cm)', 'petal width (cm)']\n"
          ]
        }
      ]
    },
    {
      "cell_type": "markdown",
      "source": [
        "From the above code snippet we can see that we have \n",
        "\n",
        "*   Four input features, which are sepal length, sepal width, petal length, petal width.\n",
        "*   Three target names depending on the input features. The target names are : setosa, versicolor, virginica.\n",
        "\n"
      ],
      "metadata": {
        "id": "V2doMOOCyqzS"
      }
    },
    {
      "cell_type": "code",
      "source": [
        "#storing features and target of iris dataset separately\n",
        "x = iris_dataset.data  # x is in matrix format\n",
        "y=iris_dataset.target   # y is in a vector format"
      ],
      "metadata": {
        "id": "MZNkZVqGwgmk"
      },
      "execution_count": null,
      "outputs": []
    }
  ]
}