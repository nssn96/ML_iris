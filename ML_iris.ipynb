{
  "nbformat": 4,
  "nbformat_minor": 0,
  "metadata": {
    "colab": {
      "name": "ML_iris.ipynb",
      "provenance": [],
      "collapsed_sections": [],
      "authorship_tag": "ABX9TyPHAbcgNDNq/joK+cF4p9pp",
      "include_colab_link": true
    },
    "kernelspec": {
      "name": "python3",
      "display_name": "Python 3"
    },
    "language_info": {
      "name": "python"
    }
  },
  "cells": [
    {
      "cell_type": "markdown",
      "metadata": {
        "id": "view-in-github",
        "colab_type": "text"
      },
      "source": [
        "<a href=\"https://colab.research.google.com/github/nssn96/ML_iris/blob/main/ML_iris.ipynb\" target=\"_parent\"><img src=\"https://colab.research.google.com/assets/colab-badge.svg\" alt=\"Open In Colab\"/></a>"
      ]
    },
    {
      "cell_type": "markdown",
      "source": [
        "# ML Assignmet 1 - Iris dataset\n",
        "\n",
        "\n",
        "*   Name : Surya Narayanan Nadhamuni Suresh\n",
        "*   UTA ID : 1001877873\n",
        "\n",
        "\n"
      ],
      "metadata": {
        "id": "Mcgpr46pdcs0"
      }
    },
    {
      "cell_type": "code",
      "source": [
        "#import statements\n",
        "from sklearn.datasets import load_iris\n",
        "import numpy as np\n",
        "import pandas as pd\n",
        "import matplotlib.pyplot as plt\n",
        "import itertools\n",
        "\n",
        "from sklearn.model_selection import train_test_split\n",
        "from sklearn.linear_model import LinearRegression\n",
        "from sklearn.metrics import mean_squared_error\n",
        "%matplotlib inline"
      ],
      "metadata": {
        "id": "xWpiGmA3ePEr"
      },
      "execution_count": 31,
      "outputs": []
    },
    {
      "cell_type": "code",
      "source": [
        "#loading the iris dataset\n",
        "iris_dataset=load_iris()\n",
        "print(type(iris_dataset))"
      ],
      "metadata": {
        "id": "Ov6VyxCgdjHR",
        "outputId": "8031e4ae-5451-4d60-f65c-59c7aace0c7c",
        "colab": {
          "base_uri": "https://localhost:8080/"
        }
      },
      "execution_count": 32,
      "outputs": [
        {
          "output_type": "stream",
          "name": "stdout",
          "text": [
            "<class 'sklearn.utils.Bunch'>\n"
          ]
        }
      ]
    },
    {
      "cell_type": "code",
      "source": [
        "#to explore the iris_dataset dictionary and understand the different available keys and thier values\n",
        "print(iris_dataset.keys())\n",
        "#print(iris_dataset.data)\n",
        "print(iris_dataset.target)\n",
        "print(iris_dataset.frame)\n",
        "print(iris_dataset.target_names)\n",
        "print(iris_dataset.feature_names)"
      ],
      "metadata": {
        "colab": {
          "base_uri": "https://localhost:8080/"
        },
        "id": "1usr410yxycz",
        "outputId": "9c728a0c-3151-4957-9e0f-6b2d7e8df0de"
      },
      "execution_count": 33,
      "outputs": [
        {
          "output_type": "stream",
          "name": "stdout",
          "text": [
            "dict_keys(['data', 'target', 'frame', 'target_names', 'DESCR', 'feature_names', 'filename', 'data_module'])\n",
            "[0 0 0 0 0 0 0 0 0 0 0 0 0 0 0 0 0 0 0 0 0 0 0 0 0 0 0 0 0 0 0 0 0 0 0 0 0\n",
            " 0 0 0 0 0 0 0 0 0 0 0 0 0 1 1 1 1 1 1 1 1 1 1 1 1 1 1 1 1 1 1 1 1 1 1 1 1\n",
            " 1 1 1 1 1 1 1 1 1 1 1 1 1 1 1 1 1 1 1 1 1 1 1 1 1 1 2 2 2 2 2 2 2 2 2 2 2\n",
            " 2 2 2 2 2 2 2 2 2 2 2 2 2 2 2 2 2 2 2 2 2 2 2 2 2 2 2 2 2 2 2 2 2 2 2 2 2\n",
            " 2 2]\n",
            "None\n",
            "['setosa' 'versicolor' 'virginica']\n",
            "['sepal length (cm)', 'sepal width (cm)', 'petal length (cm)', 'petal width (cm)']\n"
          ]
        }
      ]
    },
    {
      "cell_type": "markdown",
      "source": [
        "From the above code snippet we can see that we have \n",
        "\n",
        "*   Four input features, which are sepal length, sepal width, petal length, petal width.\n",
        "*   Three target names depending on the input features. The target names are : setosa=0, versicolor=1,virginica=2\n",
        "\n"
      ],
      "metadata": {
        "id": "V2doMOOCyqzS"
      }
    },
    {
      "cell_type": "code",
      "source": [
        "#storing features and target of iris dataset separately\n",
        "x = pd.DataFrame(iris_dataset.data)  # x is in matrix format\n",
        "y=pd.DataFrame(iris_dataset.target)   # y is in a vector format\n",
        "x.columns=['sepal_length','sepal_width','petal_length','petal_width']\n",
        "y.columns=['target']"
      ],
      "metadata": {
        "id": "MZNkZVqGwgmk"
      },
      "execution_count": 34,
      "outputs": []
    },
    {
      "cell_type": "code",
      "source": [
        "#to check the number/size of the data matrix\n",
        "print(x.shape)"
      ],
      "metadata": {
        "colab": {
          "base_uri": "https://localhost:8080/"
        },
        "id": "OkMW3sLK_VSr",
        "outputId": "d75f9f3f-349f-45ae-cf5d-13b68a3b2f9c"
      },
      "execution_count": 35,
      "outputs": [
        {
          "output_type": "stream",
          "name": "stdout",
          "text": [
            "(150, 4)\n"
          ]
        }
      ]
    },
    {
      "cell_type": "markdown",
      "source": [
        "So, from above code we can see that we have a total of 150 samples of input features"
      ],
      "metadata": {
        "id": "G4ZizbR5JERI"
      }
    },
    {
      "cell_type": "code",
      "source": [
        "#converting to dataframe\n",
        "data = pd.DataFrame(data= np.c_[iris_dataset['data'], iris_dataset['target']],columns= iris_dataset['feature_names'] + ['target'])\n",
        "data['species'] = pd.Categorical.from_codes(iris_dataset.target,iris_dataset.target_names)\n",
        "data.columns=['sepal_length','sepal_width','petal_length','petal_width','target','species']\n",
        "data"
      ],
      "metadata": {
        "id": "0cSwA56xKnC-",
        "colab": {
          "base_uri": "https://localhost:8080/",
          "height": 424
        },
        "outputId": "2ab66e4f-60eb-4ce1-bf4f-9234ab21c744"
      },
      "execution_count": 36,
      "outputs": [
        {
          "output_type": "execute_result",
          "data": {
            "text/plain": [
              "     sepal_length  sepal_width  petal_length  petal_width  target    species\n",
              "0             5.1          3.5           1.4          0.2     0.0     setosa\n",
              "1             4.9          3.0           1.4          0.2     0.0     setosa\n",
              "2             4.7          3.2           1.3          0.2     0.0     setosa\n",
              "3             4.6          3.1           1.5          0.2     0.0     setosa\n",
              "4             5.0          3.6           1.4          0.2     0.0     setosa\n",
              "..            ...          ...           ...          ...     ...        ...\n",
              "145           6.7          3.0           5.2          2.3     2.0  virginica\n",
              "146           6.3          2.5           5.0          1.9     2.0  virginica\n",
              "147           6.5          3.0           5.2          2.0     2.0  virginica\n",
              "148           6.2          3.4           5.4          2.3     2.0  virginica\n",
              "149           5.9          3.0           5.1          1.8     2.0  virginica\n",
              "\n",
              "[150 rows x 6 columns]"
            ],
            "text/html": [
              "\n",
              "  <div id=\"df-00203776-f3b3-4059-80e4-1e3ba0620300\">\n",
              "    <div class=\"colab-df-container\">\n",
              "      <div>\n",
              "<style scoped>\n",
              "    .dataframe tbody tr th:only-of-type {\n",
              "        vertical-align: middle;\n",
              "    }\n",
              "\n",
              "    .dataframe tbody tr th {\n",
              "        vertical-align: top;\n",
              "    }\n",
              "\n",
              "    .dataframe thead th {\n",
              "        text-align: right;\n",
              "    }\n",
              "</style>\n",
              "<table border=\"1\" class=\"dataframe\">\n",
              "  <thead>\n",
              "    <tr style=\"text-align: right;\">\n",
              "      <th></th>\n",
              "      <th>sepal_length</th>\n",
              "      <th>sepal_width</th>\n",
              "      <th>petal_length</th>\n",
              "      <th>petal_width</th>\n",
              "      <th>target</th>\n",
              "      <th>species</th>\n",
              "    </tr>\n",
              "  </thead>\n",
              "  <tbody>\n",
              "    <tr>\n",
              "      <th>0</th>\n",
              "      <td>5.1</td>\n",
              "      <td>3.5</td>\n",
              "      <td>1.4</td>\n",
              "      <td>0.2</td>\n",
              "      <td>0.0</td>\n",
              "      <td>setosa</td>\n",
              "    </tr>\n",
              "    <tr>\n",
              "      <th>1</th>\n",
              "      <td>4.9</td>\n",
              "      <td>3.0</td>\n",
              "      <td>1.4</td>\n",
              "      <td>0.2</td>\n",
              "      <td>0.0</td>\n",
              "      <td>setosa</td>\n",
              "    </tr>\n",
              "    <tr>\n",
              "      <th>2</th>\n",
              "      <td>4.7</td>\n",
              "      <td>3.2</td>\n",
              "      <td>1.3</td>\n",
              "      <td>0.2</td>\n",
              "      <td>0.0</td>\n",
              "      <td>setosa</td>\n",
              "    </tr>\n",
              "    <tr>\n",
              "      <th>3</th>\n",
              "      <td>4.6</td>\n",
              "      <td>3.1</td>\n",
              "      <td>1.5</td>\n",
              "      <td>0.2</td>\n",
              "      <td>0.0</td>\n",
              "      <td>setosa</td>\n",
              "    </tr>\n",
              "    <tr>\n",
              "      <th>4</th>\n",
              "      <td>5.0</td>\n",
              "      <td>3.6</td>\n",
              "      <td>1.4</td>\n",
              "      <td>0.2</td>\n",
              "      <td>0.0</td>\n",
              "      <td>setosa</td>\n",
              "    </tr>\n",
              "    <tr>\n",
              "      <th>...</th>\n",
              "      <td>...</td>\n",
              "      <td>...</td>\n",
              "      <td>...</td>\n",
              "      <td>...</td>\n",
              "      <td>...</td>\n",
              "      <td>...</td>\n",
              "    </tr>\n",
              "    <tr>\n",
              "      <th>145</th>\n",
              "      <td>6.7</td>\n",
              "      <td>3.0</td>\n",
              "      <td>5.2</td>\n",
              "      <td>2.3</td>\n",
              "      <td>2.0</td>\n",
              "      <td>virginica</td>\n",
              "    </tr>\n",
              "    <tr>\n",
              "      <th>146</th>\n",
              "      <td>6.3</td>\n",
              "      <td>2.5</td>\n",
              "      <td>5.0</td>\n",
              "      <td>1.9</td>\n",
              "      <td>2.0</td>\n",
              "      <td>virginica</td>\n",
              "    </tr>\n",
              "    <tr>\n",
              "      <th>147</th>\n",
              "      <td>6.5</td>\n",
              "      <td>3.0</td>\n",
              "      <td>5.2</td>\n",
              "      <td>2.0</td>\n",
              "      <td>2.0</td>\n",
              "      <td>virginica</td>\n",
              "    </tr>\n",
              "    <tr>\n",
              "      <th>148</th>\n",
              "      <td>6.2</td>\n",
              "      <td>3.4</td>\n",
              "      <td>5.4</td>\n",
              "      <td>2.3</td>\n",
              "      <td>2.0</td>\n",
              "      <td>virginica</td>\n",
              "    </tr>\n",
              "    <tr>\n",
              "      <th>149</th>\n",
              "      <td>5.9</td>\n",
              "      <td>3.0</td>\n",
              "      <td>5.1</td>\n",
              "      <td>1.8</td>\n",
              "      <td>2.0</td>\n",
              "      <td>virginica</td>\n",
              "    </tr>\n",
              "  </tbody>\n",
              "</table>\n",
              "<p>150 rows × 6 columns</p>\n",
              "</div>\n",
              "      <button class=\"colab-df-convert\" onclick=\"convertToInteractive('df-00203776-f3b3-4059-80e4-1e3ba0620300')\"\n",
              "              title=\"Convert this dataframe to an interactive table.\"\n",
              "              style=\"display:none;\">\n",
              "        \n",
              "  <svg xmlns=\"http://www.w3.org/2000/svg\" height=\"24px\"viewBox=\"0 0 24 24\"\n",
              "       width=\"24px\">\n",
              "    <path d=\"M0 0h24v24H0V0z\" fill=\"none\"/>\n",
              "    <path d=\"M18.56 5.44l.94 2.06.94-2.06 2.06-.94-2.06-.94-.94-2.06-.94 2.06-2.06.94zm-11 1L8.5 8.5l.94-2.06 2.06-.94-2.06-.94L8.5 2.5l-.94 2.06-2.06.94zm10 10l.94 2.06.94-2.06 2.06-.94-2.06-.94-.94-2.06-.94 2.06-2.06.94z\"/><path d=\"M17.41 7.96l-1.37-1.37c-.4-.4-.92-.59-1.43-.59-.52 0-1.04.2-1.43.59L10.3 9.45l-7.72 7.72c-.78.78-.78 2.05 0 2.83L4 21.41c.39.39.9.59 1.41.59.51 0 1.02-.2 1.41-.59l7.78-7.78 2.81-2.81c.8-.78.8-2.07 0-2.86zM5.41 20L4 18.59l7.72-7.72 1.47 1.35L5.41 20z\"/>\n",
              "  </svg>\n",
              "      </button>\n",
              "      \n",
              "  <style>\n",
              "    .colab-df-container {\n",
              "      display:flex;\n",
              "      flex-wrap:wrap;\n",
              "      gap: 12px;\n",
              "    }\n",
              "\n",
              "    .colab-df-convert {\n",
              "      background-color: #E8F0FE;\n",
              "      border: none;\n",
              "      border-radius: 50%;\n",
              "      cursor: pointer;\n",
              "      display: none;\n",
              "      fill: #1967D2;\n",
              "      height: 32px;\n",
              "      padding: 0 0 0 0;\n",
              "      width: 32px;\n",
              "    }\n",
              "\n",
              "    .colab-df-convert:hover {\n",
              "      background-color: #E2EBFA;\n",
              "      box-shadow: 0px 1px 2px rgba(60, 64, 67, 0.3), 0px 1px 3px 1px rgba(60, 64, 67, 0.15);\n",
              "      fill: #174EA6;\n",
              "    }\n",
              "\n",
              "    [theme=dark] .colab-df-convert {\n",
              "      background-color: #3B4455;\n",
              "      fill: #D2E3FC;\n",
              "    }\n",
              "\n",
              "    [theme=dark] .colab-df-convert:hover {\n",
              "      background-color: #434B5C;\n",
              "      box-shadow: 0px 1px 3px 1px rgba(0, 0, 0, 0.15);\n",
              "      filter: drop-shadow(0px 1px 2px rgba(0, 0, 0, 0.3));\n",
              "      fill: #FFFFFF;\n",
              "    }\n",
              "  </style>\n",
              "\n",
              "      <script>\n",
              "        const buttonEl =\n",
              "          document.querySelector('#df-00203776-f3b3-4059-80e4-1e3ba0620300 button.colab-df-convert');\n",
              "        buttonEl.style.display =\n",
              "          google.colab.kernel.accessAllowed ? 'block' : 'none';\n",
              "\n",
              "        async function convertToInteractive(key) {\n",
              "          const element = document.querySelector('#df-00203776-f3b3-4059-80e4-1e3ba0620300');\n",
              "          const dataTable =\n",
              "            await google.colab.kernel.invokeFunction('convertToInteractive',\n",
              "                                                     [key], {});\n",
              "          if (!dataTable) return;\n",
              "\n",
              "          const docLinkHtml = 'Like what you see? Visit the ' +\n",
              "            '<a target=\"_blank\" href=https://colab.research.google.com/notebooks/data_table.ipynb>data table notebook</a>'\n",
              "            + ' to learn more about interactive tables.';\n",
              "          element.innerHTML = '';\n",
              "          dataTable['output_type'] = 'display_data';\n",
              "          await google.colab.output.renderOutput(dataTable, element);\n",
              "          const docLink = document.createElement('div');\n",
              "          docLink.innerHTML = docLinkHtml;\n",
              "          element.appendChild(docLink);\n",
              "        }\n",
              "      </script>\n",
              "    </div>\n",
              "  </div>\n",
              "  "
            ]
          },
          "metadata": {},
          "execution_count": 36
        }
      ]
    },
    {
      "cell_type": "code",
      "source": [
        "\n",
        "# plt.scatter(data.sepal_length,data.sepal_width)\n",
        "# plt.xlabel(\"Sepal length\")\n",
        "# plt.ylabel(\"Sepal Width\")\n",
        "# plt.show()\n"
      ],
      "metadata": {
        "id": "poKw02LJiiLa"
      },
      "execution_count": 37,
      "outputs": []
    },
    {
      "cell_type": "code",
      "source": [
        "#splitting the data into train and test set\n",
        "x_train,x_test,y_train,y_test = train_test_split(x,y,test_size=0.1, random_state=1,stratify = y)"
      ],
      "metadata": {
        "id": "2l3jcUKRtx6W"
      },
      "execution_count": 38,
      "outputs": []
    },
    {
      "cell_type": "code",
      "source": [
        "# x1=x_train.petal_length\n",
        "# y1 = x_train.petal_width\n",
        "# num_obs = len(x1)\n",
        "# noise = np.random.normal(loc=0.0, scale=5.0, size=num_obs)\n",
        "# y= 10+(2*x1)+noise\n",
        "\n",
        "# plt.figure(figsize=(20,7))\n",
        "# plt.plot(x1, y, 'o')\n"
      ],
      "metadata": {
        "id": "UYSzxwiU-ZW5"
      },
      "execution_count": 39,
      "outputs": []
    },
    {
      "cell_type": "code",
      "source": [
        "#global variable to store all the weights at the end of 100 iterations of all the model , so that can be used for testing\n",
        "w_all=[]"
      ],
      "metadata": {
        "id": "iWdT4OsX-UEU"
      },
      "execution_count": 40,
      "outputs": []
    },
    {
      "cell_type": "markdown",
      "source": [
        "# Training"
      ],
      "metadata": {
        "id": "cFGH050oGNQw"
      }
    },
    {
      "cell_type": "code",
      "source": [
        "#class definition for Linear regression\n",
        "class LinearRegression:\n",
        "\n",
        "  global w_all\n",
        "\n",
        "  def fit(self,data,target,steps=100,bsize=32):\n",
        "    self.alpha=0.01 #learning rate\n",
        "    self.m = data.shape #num of training examples,features\n",
        "    self.data = np.stack((np.ones(len(data)),data),axis=1)\n",
        "    #print(self.data)\n",
        "    self.target=target\n",
        "    self.bias=0\n",
        "    self.w = np.random.uniform(-1,1,size=(2,))\n",
        "    self.loss_arr=[]\n",
        "    \n",
        "\n",
        "    for i in range(steps):\n",
        "      #target_pred = self.predict(self.data)\n",
        "      mse_loss=0.0\n",
        "      #splitting the dataset according to the batch size\n",
        "      for j in range(bsize):\n",
        "        value = np.random.randint(0,len(data))\n",
        "        #print(\"value is \"+str(value))\n",
        "        data_new = data[value:value+1]\n",
        "        data_new = np.stack((np.ones(len(data_new)),data_new),axis=1)\n",
        "        target_new = target[value:value+1]\n",
        "\n",
        "        #print(data_new)\n",
        "        dw = -(2 * (data_new.T).dot(target_new-self.predict(data_new))) / self.m\n",
        "        #print('I am not here')\n",
        "        self.w -= (self.alpha * dw)\n",
        "        mse_loss += (np.sum((target_new-self.predict(data_new)) ** 2)) / self.m\n",
        "      self.loss_arr.append(mse_loss)\n",
        "\n",
        "\n",
        "    # for i in range(steps):\n",
        "    #   target_pred = self.predict(self.data)\n",
        "\n",
        "\n",
        "    #   # calculate gradient descent\n",
        "    #   dbias = -2 * np.sum(self.target-target_pred) / self.m\n",
        "    #   dw = -(2 * (self.data.T).dot(self.target-target_pred)) / self.m\n",
        "\n",
        "    #   #least square function\n",
        "    #   mse_loss =  (np.sum((self.target-target_pred) ** 2)) / self.m\n",
        "    #   #mse_loss = np.square(np.subtract(self.target,target_pred)).mean()\n",
        "    #   #mse_loss = mean_squared_error(self.target,target_pred)\n",
        "    #   self.loss_arr.append(mse_loss)\n",
        "\n",
        "    #   #update weights\n",
        "    #   self.bias-= (self.alpha * dbias)\n",
        "    #   self.w -= (self.alpha * dw)\n",
        "\n",
        "    w_all.append(self.w)\n",
        "    return self.loss_arr\n",
        "\n",
        "  def predict(self,data):\n",
        "    #return data.dot(self.w) + self.bias\n",
        "    return data @ self.w\n"
      ],
      "metadata": {
        "id": "Mp8G8tMhqqzY"
      },
      "execution_count": 41,
      "outputs": []
    },
    {
      "cell_type": "code",
      "source": [
        "# # 12 diff combinations of models\n",
        "# model = LinearRegression()\n",
        "# print(len(x1))\n",
        "# l  = model.fit(x1,y1)\n",
        "# print(l)\n",
        "# # step_num = range(1,101)\n",
        "# # plt.plot(step_num, l, label='loss vs step')"
      ],
      "metadata": {
        "id": "qRKYQ82Rcxir"
      },
      "execution_count": 42,
      "outputs": []
    },
    {
      "cell_type": "code",
      "source": [
        "# 12 diff combinations of models\n",
        "model = LinearRegression()\n",
        "step_num = range(1,101)\n",
        "temp = ['sepal_length','sepal_width','petal_length','petal_width']\n",
        "li = list(itertools.permutations(temp,2))\n",
        "cnt=1\n",
        "model_num=1\n",
        "for i in li:\n",
        "  feature1=i[0]\n",
        "  feature2=i[1]\n",
        "  input = x_train[feature1]\n",
        "  output = x_train[feature2]\n",
        "  l  = model.fit(input,output)\n",
        "  plt.figure()\n",
        "  plt.title('Model Number '+str(model_num))\n",
        "  plt.ylabel('Loss')\n",
        "  plt.xlabel('Current step')\n",
        "  plt.plot(step_num, l)\n",
        "  model_num+=1\n",
        "  #print(l)\n",
        "\n",
        "plt.show()\n"
      ],
      "metadata": {
        "id": "IFiSJolQOES2"
      },
      "execution_count": null,
      "outputs": []
    },
    {
      "cell_type": "markdown",
      "source": [
        "# L2 Regularization"
      ],
      "metadata": {
        "id": "znJdH1_qGFyc"
      }
    },
    {
      "cell_type": "code",
      "source": [
        ""
      ],
      "metadata": {
        "id": "aaWxZqLGGFUM"
      },
      "execution_count": null,
      "outputs": []
    },
    {
      "cell_type": "code",
      "source": [
        "\n",
        "\n",
        "# # fitting the model with data set\n",
        "\n",
        "# # reg_sgd = SGDRegressor(loss='squared_error', max_iter=100)\n",
        "# # reg_sgd.fit(X,y)\n",
        "# # y_hat_pred = reg_sgd.predict(X_test)\n",
        "# backup = data\n",
        "\n",
        "\n",
        "\n",
        "# MSE_score_train = []\n",
        "# MSE_score_test = []\n",
        "\n",
        "# mod_no = range(1,13)\n",
        "# for i in mod_no:\n",
        "#   model = SGDRegressor(loss=\"squared_error\", max_iter=100)\n",
        "#   model.fit(x_train, y_train)\n",
        "#   y_train_hat  = model.predict(x_train)\n",
        "#   y_test_hat  = model.predict(x_test)\n",
        "#   MSE_score_train.append(-1 * mean_squared_error(y_train,y_train_hat))\n",
        "#   MSE_score_test.append(-1 * mean_squared_error(y_test,y_test_hat))\n",
        "    \n",
        "# plt.plot(mod_no,  MSE_score_train, label='train')\n",
        "# plt.plot(mod_no,  MSE_score_test, label='test')\n",
        "# plt.xlabel(\"Model Number\")\n",
        "# plt.ylabel(\"MSE\")\n",
        "# plt.legend()\n",
        "\n",
        "# # plt.annotate('Sweet Spot', xy = (9, -.005), xytext=(9, -.015),\n",
        "# #             arrowprops = dict(facecolor='black', shrink = 0.05));"
      ],
      "metadata": {
        "id": "DShBg5BQay70"
      },
      "execution_count": 45,
      "outputs": []
    }
  ]
}